{
 "cells": [
  {
   "cell_type": "code",
   "execution_count": 27,
   "metadata": {},
   "outputs": [],
   "source": [
    "#imports\n",
    "\n",
    "import numpy as np\n",
    "import pandas as pd\n",
    "import pickle \n",
    "import gzip\n",
    "import seaborn as sns\n",
    "import matplotlib.pyplot as plt"
   ]
  },
  {
   "cell_type": "code",
   "execution_count": 28,
   "metadata": {},
   "outputs": [
    {
     "name": "stdout",
     "output_type": "stream",
     "text": [
      "(23052, 5)\n",
      "(46104, 5)\n"
     ]
    }
   ],
   "source": [
    "#contains synergy values and fold split (numbers 0-4)\n",
    "labels_file_path = \"/home/nidhi/Documents/freelancing/DeepSynergy/data/labels.csv\"\n",
    "labels = pd.read_csv( labels_file_path, index_col=0) \n",
    "print(labels.shape)\n",
    "#labels are duplicated for the two different ways of ordering in the data\n",
    "#labels = pd.concat([labels, labels]) \n",
    "\n",
    "#labels are duplicated for the two different ways of ordering in the data\n",
    "labels = pd.concat([labels, labels]) \n",
    "print(labels.shape)"
   ]
  },
  {
   "cell_type": "code",
   "execution_count": 29,
   "metadata": {},
   "outputs": [
    {
     "data": {
      "text/html": [
       "<div>\n",
       "<style scoped>\n",
       "    .dataframe tbody tr th:only-of-type {\n",
       "        vertical-align: middle;\n",
       "    }\n",
       "\n",
       "    .dataframe tbody tr th {\n",
       "        vertical-align: top;\n",
       "    }\n",
       "\n",
       "    .dataframe thead th {\n",
       "        text-align: right;\n",
       "    }\n",
       "</style>\n",
       "<table border=\"1\" class=\"dataframe\">\n",
       "  <thead>\n",
       "    <tr style=\"text-align: right;\">\n",
       "      <th></th>\n",
       "      <th>drug_a_name</th>\n",
       "      <th>drug_b_name</th>\n",
       "      <th>cell_line</th>\n",
       "      <th>synergy</th>\n",
       "      <th>fold</th>\n",
       "    </tr>\n",
       "  </thead>\n",
       "  <tbody>\n",
       "    <tr>\n",
       "      <th>5-FU_ABT-888_A2058</th>\n",
       "      <td>5-FU</td>\n",
       "      <td>ABT-888</td>\n",
       "      <td>A2058</td>\n",
       "      <td>7.693530</td>\n",
       "      <td>2</td>\n",
       "    </tr>\n",
       "    <tr>\n",
       "      <th>5-FU_ABT-888_A2780</th>\n",
       "      <td>5-FU</td>\n",
       "      <td>ABT-888</td>\n",
       "      <td>A2780</td>\n",
       "      <td>7.778053</td>\n",
       "      <td>2</td>\n",
       "    </tr>\n",
       "    <tr>\n",
       "      <th>5-FU_ABT-888_A375</th>\n",
       "      <td>5-FU</td>\n",
       "      <td>ABT-888</td>\n",
       "      <td>A375</td>\n",
       "      <td>-1.198505</td>\n",
       "      <td>2</td>\n",
       "    </tr>\n",
       "    <tr>\n",
       "      <th>5-FU_ABT-888_A427</th>\n",
       "      <td>5-FU</td>\n",
       "      <td>ABT-888</td>\n",
       "      <td>A427</td>\n",
       "      <td>2.595684</td>\n",
       "      <td>2</td>\n",
       "    </tr>\n",
       "    <tr>\n",
       "      <th>5-FU_ABT-888_CAOV3</th>\n",
       "      <td>5-FU</td>\n",
       "      <td>ABT-888</td>\n",
       "      <td>CAOV3</td>\n",
       "      <td>-5.139971</td>\n",
       "      <td>2</td>\n",
       "    </tr>\n",
       "  </tbody>\n",
       "</table>\n",
       "</div>"
      ],
      "text/plain": [
       "                   drug_a_name drug_b_name cell_line   synergy  fold\n",
       "5-FU_ABT-888_A2058        5-FU     ABT-888     A2058  7.693530     2\n",
       "5-FU_ABT-888_A2780        5-FU     ABT-888     A2780  7.778053     2\n",
       "5-FU_ABT-888_A375         5-FU     ABT-888      A375 -1.198505     2\n",
       "5-FU_ABT-888_A427         5-FU     ABT-888      A427  2.595684     2\n",
       "5-FU_ABT-888_CAOV3        5-FU     ABT-888     CAOV3 -5.139971     2"
      ]
     },
     "execution_count": 29,
     "metadata": {},
     "output_type": "execute_result"
    }
   ],
   "source": [
    "labels.head()"
   ]
  },
  {
   "cell_type": "code",
   "execution_count": 30,
   "metadata": {},
   "outputs": [],
   "source": [
    "test_fold = 0\n",
    "val_fold = 1"
   ]
  },
  {
   "cell_type": "markdown",
   "metadata": {},
   "source": [
    "Data indices for splitting"
   ]
  },
  {
   "cell_type": "code",
   "execution_count": 31,
   "metadata": {},
   "outputs": [],
   "source": [
    "#indices of training data for hyperparameter selection: fold 2, 3, 4\n",
    "idx_tr = np.where(np.logical_and(labels['fold']!=test_fold, labels['fold']!=val_fold))\n",
    "#indices of validation data for hyperparameter selection: fold 1\n",
    "idx_val = np.where(labels['fold']==val_fold)"
   ]
  },
  {
   "cell_type": "code",
   "execution_count": 32,
   "metadata": {},
   "outputs": [],
   "source": [
    "#indices of training data for model testing: fold 1, 2, 3, 4\n",
    "idx_train = np.where(labels['fold']!=test_fold)\n",
    "#indices of test data for model testing: fold 0\n",
    "idx_test = np.where(labels['fold']==test_fold)"
   ]
  },
  {
   "cell_type": "code",
   "execution_count": 33,
   "metadata": {},
   "outputs": [
    {
     "data": {
      "text/plain": [
       "(1, 9108)"
      ]
     },
     "execution_count": 33,
     "metadata": {},
     "output_type": "execute_result"
    }
   ],
   "source": [
    "np.array(idx_test).shape"
   ]
  },
  {
   "cell_type": "code",
   "execution_count": 34,
   "metadata": {},
   "outputs": [
    {
     "data": {
      "text/plain": [
       "(array([  195,   196,   197, ..., 45984, 45985, 45986]),)"
      ]
     },
     "execution_count": 34,
     "metadata": {},
     "output_type": "execute_result"
    }
   ],
   "source": [
    "idx_test"
   ]
  },
  {
   "cell_type": "code",
   "execution_count": 35,
   "metadata": {},
   "outputs": [],
   "source": [
    "plot_y_tr = labels.iloc[idx_tr]\n",
    "plot_y_val = labels.iloc[idx_val]\n",
    "plot_y_train = labels.iloc[idx_train]\n",
    "plot_y_test = labels.iloc[idx_test]\n",
    "\n",
    "plot_y_tr.reset_index(drop=True, inplace=True)\n",
    "plot_y_val.reset_index(drop=True, inplace=True)\n",
    "plot_y_train.reset_index(drop=True, inplace=True)\n",
    "plot_y_test.reset_index(drop=True, inplace=True)\n"
   ]
  },
  {
   "cell_type": "code",
   "execution_count": 36,
   "metadata": {},
   "outputs": [
    {
     "name": "stdout",
     "output_type": "stream",
     "text": [
      "(9108, 5)\n"
     ]
    },
    {
     "data": {
      "text/html": [
       "<div>\n",
       "<style scoped>\n",
       "    .dataframe tbody tr th:only-of-type {\n",
       "        vertical-align: middle;\n",
       "    }\n",
       "\n",
       "    .dataframe tbody tr th {\n",
       "        vertical-align: top;\n",
       "    }\n",
       "\n",
       "    .dataframe thead th {\n",
       "        text-align: right;\n",
       "    }\n",
       "</style>\n",
       "<table border=\"1\" class=\"dataframe\">\n",
       "  <thead>\n",
       "    <tr style=\"text-align: right;\">\n",
       "      <th></th>\n",
       "      <th>drug_a_name</th>\n",
       "      <th>drug_b_name</th>\n",
       "      <th>cell_line</th>\n",
       "      <th>synergy</th>\n",
       "      <th>fold</th>\n",
       "    </tr>\n",
       "  </thead>\n",
       "  <tbody>\n",
       "    <tr>\n",
       "      <th>0</th>\n",
       "      <td>5-FU</td>\n",
       "      <td>DINACICLIB</td>\n",
       "      <td>A2058</td>\n",
       "      <td>4.331695</td>\n",
       "      <td>0</td>\n",
       "    </tr>\n",
       "    <tr>\n",
       "      <th>1</th>\n",
       "      <td>5-FU</td>\n",
       "      <td>DINACICLIB</td>\n",
       "      <td>A2780</td>\n",
       "      <td>-8.161129</td>\n",
       "      <td>0</td>\n",
       "    </tr>\n",
       "    <tr>\n",
       "      <th>2</th>\n",
       "      <td>5-FU</td>\n",
       "      <td>DINACICLIB</td>\n",
       "      <td>A375</td>\n",
       "      <td>-5.415934</td>\n",
       "      <td>0</td>\n",
       "    </tr>\n",
       "    <tr>\n",
       "      <th>3</th>\n",
       "      <td>5-FU</td>\n",
       "      <td>DINACICLIB</td>\n",
       "      <td>A427</td>\n",
       "      <td>-7.747474</td>\n",
       "      <td>0</td>\n",
       "    </tr>\n",
       "    <tr>\n",
       "      <th>4</th>\n",
       "      <td>5-FU</td>\n",
       "      <td>DINACICLIB</td>\n",
       "      <td>CAOV3</td>\n",
       "      <td>-14.347426</td>\n",
       "      <td>0</td>\n",
       "    </tr>\n",
       "  </tbody>\n",
       "</table>\n",
       "</div>"
      ],
      "text/plain": [
       "  drug_a_name drug_b_name cell_line    synergy  fold\n",
       "0        5-FU  DINACICLIB     A2058   4.331695     0\n",
       "1        5-FU  DINACICLIB     A2780  -8.161129     0\n",
       "2        5-FU  DINACICLIB      A375  -5.415934     0\n",
       "3        5-FU  DINACICLIB      A427  -7.747474     0\n",
       "4        5-FU  DINACICLIB     CAOV3 -14.347426     0"
      ]
     },
     "execution_count": 36,
     "metadata": {},
     "output_type": "execute_result"
    }
   ],
   "source": [
    "print(plot_y_test.shape)\n",
    "plot_y_test.head()"
   ]
  },
  {
   "cell_type": "markdown",
   "metadata": {},
   "source": [
    "Note: X_tr and y_tr are used for model training here as per original Github code. \n",
    "So, using those for plots. \n",
    "\n",
    "Can easily be replaced with X_train and y_train.\n",
    "\n",
    "X_tr, y_tr (fold = 2,3,4)\n",
    "X_train, y_train (fold = 1,2,3,4)\n",
    "\n",
    "Test data:\n",
    "X_test, y_test (fold = 0)"
   ]
  },
  {
   "cell_type": "code",
   "execution_count": 37,
   "metadata": {},
   "outputs": [
    {
     "data": {
      "text/html": [
       "<div>\n",
       "<style scoped>\n",
       "    .dataframe tbody tr th:only-of-type {\n",
       "        vertical-align: middle;\n",
       "    }\n",
       "\n",
       "    .dataframe tbody tr th {\n",
       "        vertical-align: top;\n",
       "    }\n",
       "\n",
       "    .dataframe thead th {\n",
       "        text-align: right;\n",
       "    }\n",
       "</style>\n",
       "<table border=\"1\" class=\"dataframe\">\n",
       "  <thead>\n",
       "    <tr style=\"text-align: right;\">\n",
       "      <th></th>\n",
       "      <th>predictions</th>\n",
       "    </tr>\n",
       "  </thead>\n",
       "  <tbody>\n",
       "    <tr>\n",
       "      <th>0</th>\n",
       "      <td>4.529222</td>\n",
       "    </tr>\n",
       "    <tr>\n",
       "      <th>1</th>\n",
       "      <td>5.321245</td>\n",
       "    </tr>\n",
       "    <tr>\n",
       "      <th>2</th>\n",
       "      <td>5.103267</td>\n",
       "    </tr>\n",
       "    <tr>\n",
       "      <th>3</th>\n",
       "      <td>1.266781</td>\n",
       "    </tr>\n",
       "    <tr>\n",
       "      <th>4</th>\n",
       "      <td>1.752109</td>\n",
       "    </tr>\n",
       "    <tr>\n",
       "      <th>...</th>\n",
       "      <td>...</td>\n",
       "    </tr>\n",
       "    <tr>\n",
       "      <th>9103</th>\n",
       "      <td>2.960242</td>\n",
       "    </tr>\n",
       "    <tr>\n",
       "      <th>9104</th>\n",
       "      <td>4.097431</td>\n",
       "    </tr>\n",
       "    <tr>\n",
       "      <th>9105</th>\n",
       "      <td>4.097431</td>\n",
       "    </tr>\n",
       "    <tr>\n",
       "      <th>9106</th>\n",
       "      <td>5.746753</td>\n",
       "    </tr>\n",
       "    <tr>\n",
       "      <th>9107</th>\n",
       "      <td>3.683684</td>\n",
       "    </tr>\n",
       "  </tbody>\n",
       "</table>\n",
       "<p>9108 rows × 1 columns</p>\n",
       "</div>"
      ],
      "text/plain": [
       "      predictions\n",
       "0        4.529222\n",
       "1        5.321245\n",
       "2        5.103267\n",
       "3        1.266781\n",
       "4        1.752109\n",
       "...           ...\n",
       "9103     2.960242\n",
       "9104     4.097431\n",
       "9105     4.097431\n",
       "9106     5.746753\n",
       "9107     3.683684\n",
       "\n",
       "[9108 rows x 1 columns]"
      ]
     },
     "execution_count": 37,
     "metadata": {},
     "output_type": "execute_result"
    }
   ],
   "source": [
    "predictions = pd.read_csv(\"/home/nidhi/Documents/freelancing/DeepSynergy/data/Results/predictions.csv\")\n",
    "predictions.drop(columns=[\"Unnamed: 0\"], inplace= True)\n",
    "predictions.columns = [\"predictions\"]\n",
    "predictions"
   ]
  },
  {
   "cell_type": "code",
   "execution_count": 38,
   "metadata": {},
   "outputs": [
    {
     "data": {
      "text/html": [
       "<div>\n",
       "<style scoped>\n",
       "    .dataframe tbody tr th:only-of-type {\n",
       "        vertical-align: middle;\n",
       "    }\n",
       "\n",
       "    .dataframe tbody tr th {\n",
       "        vertical-align: top;\n",
       "    }\n",
       "\n",
       "    .dataframe thead th {\n",
       "        text-align: right;\n",
       "    }\n",
       "</style>\n",
       "<table border=\"1\" class=\"dataframe\">\n",
       "  <thead>\n",
       "    <tr style=\"text-align: right;\">\n",
       "      <th></th>\n",
       "      <th>drug_a_name</th>\n",
       "      <th>drug_b_name</th>\n",
       "      <th>cell_line</th>\n",
       "      <th>synergy</th>\n",
       "      <th>predictions</th>\n",
       "    </tr>\n",
       "  </thead>\n",
       "  <tbody>\n",
       "    <tr>\n",
       "      <th>0</th>\n",
       "      <td>5-FU</td>\n",
       "      <td>DINACICLIB</td>\n",
       "      <td>A2058</td>\n",
       "      <td>4.331695</td>\n",
       "      <td>4.529222</td>\n",
       "    </tr>\n",
       "    <tr>\n",
       "      <th>1</th>\n",
       "      <td>5-FU</td>\n",
       "      <td>DINACICLIB</td>\n",
       "      <td>A2780</td>\n",
       "      <td>-8.161129</td>\n",
       "      <td>5.321245</td>\n",
       "    </tr>\n",
       "    <tr>\n",
       "      <th>2</th>\n",
       "      <td>5-FU</td>\n",
       "      <td>DINACICLIB</td>\n",
       "      <td>A375</td>\n",
       "      <td>-5.415934</td>\n",
       "      <td>5.103267</td>\n",
       "    </tr>\n",
       "    <tr>\n",
       "      <th>3</th>\n",
       "      <td>5-FU</td>\n",
       "      <td>DINACICLIB</td>\n",
       "      <td>A427</td>\n",
       "      <td>-7.747474</td>\n",
       "      <td>1.266781</td>\n",
       "    </tr>\n",
       "    <tr>\n",
       "      <th>4</th>\n",
       "      <td>5-FU</td>\n",
       "      <td>DINACICLIB</td>\n",
       "      <td>CAOV3</td>\n",
       "      <td>-14.347426</td>\n",
       "      <td>1.752109</td>\n",
       "    </tr>\n",
       "  </tbody>\n",
       "</table>\n",
       "</div>"
      ],
      "text/plain": [
       "  drug_a_name drug_b_name cell_line    synergy  predictions\n",
       "0        5-FU  DINACICLIB     A2058   4.331695     4.529222\n",
       "1        5-FU  DINACICLIB     A2780  -8.161129     5.321245\n",
       "2        5-FU  DINACICLIB      A375  -5.415934     5.103267\n",
       "3        5-FU  DINACICLIB      A427  -7.747474     1.266781\n",
       "4        5-FU  DINACICLIB     CAOV3 -14.347426     1.752109"
      ]
     },
     "execution_count": 38,
     "metadata": {},
     "output_type": "execute_result"
    }
   ],
   "source": [
    "plot_y_test = plot_y_test.join(predictions , how = \"left\")\n",
    "plot_y_test = plot_y_test.drop(columns=[\"fold\"])\n",
    "plot_y_test.head()"
   ]
  },
  {
   "cell_type": "markdown",
   "metadata": {},
   "source": [
    "KDE plot:\n",
    "It plots the train data distribution. So, use plot_y_tr for this."
   ]
  },
  {
   "cell_type": "markdown",
   "metadata": {},
   "source": [
    "Choose values for Drug A, Drug B, cell line."
   ]
  },
  {
   "cell_type": "code",
   "execution_count": 39,
   "metadata": {},
   "outputs": [],
   "source": [
    "drug_a = \"5-FU\"\n",
    "drug_b = \"DINACICLIB\"\n",
    "cell_line = \"OCUBM\""
   ]
  },
  {
   "cell_type": "code",
   "execution_count": 40,
   "metadata": {},
   "outputs": [
    {
     "data": {
      "text/html": [
       "<div>\n",
       "<style scoped>\n",
       "    .dataframe tbody tr th:only-of-type {\n",
       "        vertical-align: middle;\n",
       "    }\n",
       "\n",
       "    .dataframe tbody tr th {\n",
       "        vertical-align: top;\n",
       "    }\n",
       "\n",
       "    .dataframe thead th {\n",
       "        text-align: right;\n",
       "    }\n",
       "</style>\n",
       "<table border=\"1\" class=\"dataframe\">\n",
       "  <thead>\n",
       "    <tr style=\"text-align: right;\">\n",
       "      <th></th>\n",
       "      <th>drug_a_name</th>\n",
       "      <th>drug_b_name</th>\n",
       "      <th>cell_line</th>\n",
       "      <th>synergy</th>\n",
       "      <th>fold</th>\n",
       "    </tr>\n",
       "  </thead>\n",
       "  <tbody>\n",
       "    <tr>\n",
       "      <th>22</th>\n",
       "      <td>5-FU</td>\n",
       "      <td>ABT-888</td>\n",
       "      <td>OCUBM</td>\n",
       "      <td>3.932148</td>\n",
       "      <td>2</td>\n",
       "    </tr>\n",
       "    <tr>\n",
       "      <th>61</th>\n",
       "      <td>5-FU</td>\n",
       "      <td>BORTEZOMIB</td>\n",
       "      <td>OCUBM</td>\n",
       "      <td>-7.508625</td>\n",
       "      <td>2</td>\n",
       "    </tr>\n",
       "    <tr>\n",
       "      <th>100</th>\n",
       "      <td>5-FU</td>\n",
       "      <td>ERLOTINIB</td>\n",
       "      <td>OCUBM</td>\n",
       "      <td>28.144439</td>\n",
       "      <td>3</td>\n",
       "    </tr>\n",
       "    <tr>\n",
       "      <th>139</th>\n",
       "      <td>5-FU</td>\n",
       "      <td>GELDANAMYCIN</td>\n",
       "      <td>OCUBM</td>\n",
       "      <td>-0.938925</td>\n",
       "      <td>4</td>\n",
       "    </tr>\n",
       "    <tr>\n",
       "      <th>178</th>\n",
       "      <td>5-FU</td>\n",
       "      <td>MK-2206</td>\n",
       "      <td>OCUBM</td>\n",
       "      <td>0.751552</td>\n",
       "      <td>2</td>\n",
       "    </tr>\n",
       "  </tbody>\n",
       "</table>\n",
       "</div>"
      ],
      "text/plain": [
       "    drug_a_name   drug_b_name cell_line    synergy  fold\n",
       "22         5-FU       ABT-888     OCUBM   3.932148     2\n",
       "61         5-FU    BORTEZOMIB     OCUBM  -7.508625     2\n",
       "100        5-FU     ERLOTINIB     OCUBM  28.144439     3\n",
       "139        5-FU  GELDANAMYCIN     OCUBM  -0.938925     4\n",
       "178        5-FU       MK-2206     OCUBM   0.751552     2"
      ]
     },
     "execution_count": 40,
     "metadata": {},
     "output_type": "execute_result"
    }
   ],
   "source": [
    "#grouped by cell_line. This will be used for density plots.\n",
    "grouped = plot_y_tr.groupby('cell_line')\n",
    "\n",
    "cell_line_group = grouped.get_group(cell_line)\n",
    "cell_line_group.head()"
   ]
  },
  {
   "cell_type": "markdown",
   "metadata": {},
   "source": [
    "Plot with bandwidth = 3.589"
   ]
  },
  {
   "cell_type": "code",
   "execution_count": 41,
   "metadata": {},
   "outputs": [
    {
     "data": {
      "image/png": "[encoded data removed]",
      "text/plain": [
       "<Figure size 432x288 with 1 Axes>"
      ]
     },
     "metadata": {
      "needs_background": "light"
     },
     "output_type": "display_data"
    }
   ],
   "source": [
    "# plot prediction and density plot together\n",
    "prediction = plot_y_test.loc[(plot_y_test.drug_a_name == drug_a) & (plot_y_test.drug_b_name == drug_b) & (plot_y_test.cell_line == cell_line)].predictions.mean()\n",
    "bandwidth = 3.589\n",
    "\n",
    "graph = sns.kdeplot(cell_line_group[\"synergy\"], bw_adjust= 3.589)\n",
    "graph.axvline(prediction)\n",
    "plt.xlabel(\"N = {0}      Bandwidth = {1}\".format(cell_line_group.shape[0], bandwidth))\n",
    "plt.title(\"train data distribution of {0}\".format(cell_line))\n",
    "#plt.savefig(\"KDE_plot_fixed_bandwidth.png\")\n",
    "plt.show()"
   ]
  },
  {
   "cell_type": "code",
   "execution_count": 42,
   "metadata": {},
   "outputs": [
    {
     "data": {
      "image/png": "[encoded data removed]",
      "text/plain": [
       "<Figure size 432x288 with 1 Axes>"
      ]
     },
     "metadata": {
      "needs_background": "light"
     },
     "output_type": "display_data"
    }
   ],
   "source": [
    "# plot prediction and density plot together\n",
    "prediction = plot_y_test.loc[(plot_y_test.drug_a_name == drug_a) & (plot_y_test.drug_b_name == drug_b) & (plot_y_test.cell_line == cell_line)].predictions.mean()\n",
    "\n",
    "graph = sns.kdeplot(cell_line_group[\"synergy\"])\n",
    "graph.axvline(prediction)\n",
    "plt.xlabel(\"Synergy Score\")\n",
    "plt.title(\"train data distribution of {0}\".format(cell_line))\n",
    "#plt.savefig(\"KDE_plot_fixed_bandwidth.png\")\n",
    "plt.show()"
   ]
  },
  {
   "cell_type": "markdown",
   "metadata": {},
   "source": [
    "Heatmap"
   ]
  },
  {
   "cell_type": "code",
   "execution_count": 43,
   "metadata": {},
   "outputs": [],
   "source": [
    "#group predictions\n",
    "group_y_test = plot_y_test.groupby([\"drug_a_name\", \"drug_b_name\", \"cell_line\"])\n"
   ]
  },
  {
   "cell_type": "code",
   "execution_count": 44,
   "metadata": {},
   "outputs": [
    {
     "name": "stdout",
     "output_type": "stream",
     "text": [
      "  drug_a_name drug_b_name cell_line      pred\n",
      "0        5-FU  DINACICLIB     A2058  4.484058\n",
      "1        5-FU  DINACICLIB     A2780  5.594605\n",
      "2        5-FU  DINACICLIB      A375  5.497759\n",
      "3        5-FU  DINACICLIB      A427  1.147001\n",
      "4        5-FU  DINACICLIB     CAOV3  1.894421\n"
     ]
    }
   ],
   "source": [
    "#heatmap can't be created with duplicate entries. Deduplicate,\n",
    "\n",
    "deduplicated_labels = group_y_test[\"predictions\"].mean().reset_index(name = \"pred\")\n",
    "#print(deduplicated_labels.nunique)\n",
    "print(deduplicated_labels.head())"
   ]
  },
  {
   "cell_type": "code",
   "execution_count": 45,
   "metadata": {},
   "outputs": [
    {
     "name": "stdout",
     "output_type": "stream",
     "text": [
      "39\n"
     ]
    }
   ],
   "source": [
    "#group deduplicated_labels by cell_line to generate heatmaps for cell_line individually.\n",
    "#deduplicated_labels = ddl\n",
    "\n",
    "ddl_grouped = deduplicated_labels.groupby(\"cell_line\")\n",
    "ddl_grouped_keys = [key for key, _ in ddl_grouped]\n",
    "\n",
    "print(len(ddl_grouped_keys))\n"
   ]
  },
  {
   "cell_type": "code",
   "execution_count": 46,
   "metadata": {},
   "outputs": [
    {
     "name": "stdout",
     "output_type": "stream",
     "text": [
      "(116, 4)\n",
      "116\n"
     ]
    }
   ],
   "source": [
    "#ready data\n",
    "\n",
    "ddl_cell_line = ddl_grouped.get_group(cell_line)\n",
    "#print(ddl_A2058.head())\n",
    "print(ddl_cell_line.shape)\n",
    "\n",
    "#print(ddl_A2058.iloc[:,[0,1]].nunique())\n",
    "#double check drug pairs are unique.\n",
    "unique_drugpairs_in_ddl_cell_line = [key for key, _ in ddl_cell_line.groupby([\"drug_a_name\",\"drug_b_name\"])]\n",
    "print(len(unique_drugpairs_in_ddl_cell_line))\n",
    "\n",
    "#remove cell_line column. \n",
    "cell_line_heatmap = ddl_cell_line.iloc[:,[0,1,3]].copy()\n",
    "cell_line_heatmap = ddl_cell_line.pivot(\"drug_a_name\", \"drug_b_name\", \"pred\")\n"
   ]
  },
  {
   "cell_type": "code",
   "execution_count": 47,
   "metadata": {},
   "outputs": [
    {
     "data": {
      "image/png": "[encoded data removed]",
      "text/plain": [
       "<Figure size 432x288 with 2 Axes>"
      ]
     },
     "metadata": {
      "needs_background": "light"
     },
     "output_type": "display_data"
    }
   ],
   "source": [
    "\n",
    "#sns.color_palette(\"RdBu\")\n",
    "sns.heatmap(cell_line_heatmap, center = 0, vmin = -150, vmax = 150, cmap = \"RdBu\")\n",
    "plt.title(cell_line)\n",
    "#plt.savefig(\"Heatmap.png\")\n",
    "plt.show()\n"
   ]
  }
 ],
 "metadata": {
  "interpreter": {
   "hash": "916dbcbb3f70747c44a77c7bcd40155683ae19c65e1c03b4aa3499c5328201f1"
  },
  "kernelspec": {
   "display_name": "Python 3.8.10 64-bit",
   "language": "python",
   "name": "python3"
  },
  "language_info": {
   "codemirror_mode": {
    "name": "ipython",
    "version": 3
   },
   "file_extension": ".py",
   "mimetype": "text/x-python",
   "name": "python",
   "nbconvert_exporter": "python",
   "pygments_lexer": "ipython3",
   "version": "3.8.12"
  },
  "orig_nbformat": 4
 },
 "nbformat": 4,
 "nbformat_minor": 2
}
