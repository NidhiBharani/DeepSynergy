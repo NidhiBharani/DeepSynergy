{
 "cells": [
  {
   "cell_type": "markdown",
   "metadata": {},
   "source": [
    "## DeepSynergy\n",
    "\n",
    "Author: Kristina Preuer\n",
    "\n",
    "This Keras script shows how DeepSynergy was evaluated in one cross validation run (executed 5 times - looping over test folds). In this examples fold 0 is used for testing. The script uses 60% of the data  for training (folds 2, 3, 4) and 20% for validation (fold 1). The parameters are loaded with a separate text file (hyperparameters). Validation loss was used to determine the early stopping parameter. After hyperparameter selection the training and validation data was combined (80% = folds 1, 2, 3, 4) and the remaining 20% (fold 0) of the data were used for testing.\n",
    "\n",
    "The original work was done accordingly with binet (https://github.com/bioinf-jku/binet/tree/master/binet). "
   ]
  },
  {
   "cell_type": "code",
   "execution_count": null,
   "metadata": {},
   "outputs": [],
   "source": [
    "import os, sys\n",
    "\n",
    "import pandas as pd\n",
    "import numpy as np\n",
    "import pickle\n",
    "import gzip\n",
    "import seaborn as sns\n",
    "import matplotlib.pyplot as plt\n",
    "from sklearn.metrics import balanced_accuracy_score, confusion_matrix\n",
    "from tensorflow.keras.models import load_model\n",
    "\n",
    "import matplotlib.pyplot as plt\n",
    "\n",
    "os.environ[\"CUDA_VISIBLE_DEVICES\"]=\"3\" #specify GPU \n",
    "from tensorflow import keras as K\n",
    "import tensorflow as tf\n",
    "from tensorflow.keras import backend\n",
    "from tensorflow.compat.v1.keras.backend import set_session\n",
    "from tensorflow.keras.models import Sequential\n",
    "from tensorflow.keras.layers import Dense, Dropout"
   ]
  },
  {
   "cell_type": "markdown",
   "metadata": {},
   "source": [
    "#### Define parameters for this cross-validation run"
   ]
  },
  {
   "cell_type": "code",
   "execution_count": null,
   "metadata": {},
   "outputs": [],
   "source": [
    "hyperparameter_file = 'hyperparameters' # textfile which contains the hyperparameters of the model\n",
    "data_file = '/home/nidhi/Documents/freelancing/DeepSynergy/data/data_test_fold0_tanh.p.gz' # pickle file which contains the data (produced with normalize.ipynb)"
   ]
  },
  {
   "cell_type": "markdown",
   "metadata": {},
   "source": [
    "#### Define smoothing functions for early stopping parameter"
   ]
  },
  {
   "cell_type": "code",
   "execution_count": null,
   "metadata": {},
   "outputs": [],
   "source": [
    "def moving_average(a, n=3):\n",
    "    ret = np.cumsum(a, dtype=float)\n",
    "    ret[n:] = ret[n:] - ret[:-n]\n",
    "    return ret[n - 1:] / n"
   ]
  },
  {
   "cell_type": "markdown",
   "metadata": {},
   "source": [
    "#### Load parameters defining the model"
   ]
  },
  {
   "cell_type": "code",
   "execution_count": null,
   "metadata": {},
   "outputs": [],
   "source": [
    "exec(open(hyperparameter_file).read()) "
   ]
  },
  {
   "cell_type": "markdown",
   "metadata": {},
   "source": [
    "#### Load data \n",
    "tr = 60% of data for training during hyperparameter selection <br>\n",
    "val = 20% of data for validation during hyperparameter selection\n",
    "\n",
    "train = tr + val = 80% of data for training during final testing <br>\n",
    "test = remaining left out 20% of data for unbiased testing \n",
    "\n",
    "splitting and normalization was done with normalize.ipynb"
   ]
  },
  {
   "cell_type": "code",
   "execution_count": null,
   "metadata": {},
   "outputs": [],
   "source": [
    "file = gzip.open(data_file, 'rb')\n",
    "X_tr, X_val, X_train, X_test, y_tr, y_val, y_train, y_test = pickle.load(file)\n",
    "file.close()"
   ]
  },
  {
   "cell_type": "markdown",
   "metadata": {},
   "source": [
    "#### run set"
   ]
  },
  {
   "cell_type": "code",
   "execution_count": null,
   "metadata": {},
   "outputs": [],
   "source": [
    "config = tf.compat.v1.ConfigProto(\n",
    "         allow_soft_placement=True,\n",
    "         #gpu_options = tf.GPUOptions(allow_growth=True)\n",
    "        # gpu_options = tf.compat.v1.GPUOptions(allow_growth = True)\n",
    "        )\n",
    "\n",
    "config.gpu_options.allow_growth = True"
   ]
  },
  {
   "cell_type": "code",
   "execution_count": null,
   "metadata": {},
   "outputs": [],
   "source": [
    "\n",
    "#set_session(tf.compat.v1.Session()(config=config))\n",
    "\n",
    "from tensorflow.compat.v1 import InteractiveSession\n",
    "session = InteractiveSession(config=config)\n",
    "\n"
   ]
  },
  {
   "cell_type": "code",
   "execution_count": null,
   "metadata": {},
   "outputs": [],
   "source": [
    "model = Sequential()\n",
    "metrics=[tf.keras.metrics.MeanSquaredError(), \n",
    "         tf.keras.metrics.RootMeanSquaredError(),\n",
    "         tf.keras.metrics.MeanAbsoluteError()]\n",
    "for i in range(len(layers)):\n",
    "    if i==0:\n",
    "        model.add(Dense(layers[i], input_shape=(X_tr.shape[1],), activation=act_func, \n",
    "                        kernel_initializer='he_normal'))\n",
    "        model.add(Dropout(float(input_dropout)))\n",
    "    elif i==len(layers)-1:\n",
    "        model.add(Dense(layers[i], activation='linear', kernel_initializer=\"he_normal\"))\n",
    "    else:\n",
    "        model.add(Dense(layers[i], activation=act_func, kernel_initializer=\"he_normal\"))\n",
    "        model.add(Dropout(float(dropout)))\n",
    "    model.compile(loss='mean_squared_error', metrics= metrics, optimizer=K.optimizers.SGD(lr=float(eta), momentum=0.5))"
   ]
  },
  {
   "cell_type": "markdown",
   "metadata": {},
   "source": [
    "Train model"
   ]
  },
  {
   "cell_type": "code",
   "execution_count": null,
   "metadata": {},
   "outputs": [],
   "source": [
    "print(X_tr.shape)\n",
    "print(y_tr.shape)"
   ]
  },
  {
   "cell_type": "code",
   "execution_count": null,
   "metadata": {},
   "outputs": [],
   "source": [
    "hist = model.fit(X_tr, y_tr, epochs=15, shuffle=True, batch_size=64, validation_data=(X_val, y_val))\n",
    "val_loss = hist.history['val_loss']\n",
    "#model.reset_states()"
   ]
  },
  {
   "cell_type": "code",
   "execution_count": null,
   "metadata": {},
   "outputs": [],
   "source": [
    "model.save(\"model_15_epochs.h5\")\n",
    "model_15epochs = load_model(\"model_15_epochs.h5\")\n",
    "predictions_15epochs = model_15epochs.predict(X_test)\n"
   ]
  },
  {
   "cell_type": "code",
   "execution_count": null,
   "metadata": {},
   "outputs": [],
   "source": [
    "predictions_15epochs"
   ]
  },
  {
   "cell_type": "code",
   "execution_count": null,
   "metadata": {},
   "outputs": [],
   "source": [
    "hist.history"
   ]
  },
  {
   "cell_type": "markdown",
   "metadata": {},
   "source": [
    "Evaluate model on test data"
   ]
  },
  {
   "cell_type": "code",
   "execution_count": null,
   "metadata": {},
   "outputs": [],
   "source": [
    "print(\"Regression metrics from the model\")\n",
    "results = model.evaluate(X_test, y_test, batch_size=128)\n",
    "print(results)\n",
    "print(\"Mean squared Error=\", results[1])\n",
    "print(\"Root Mean squared Error=\", results[2])\n",
    "print(\"Mean Absolute Error=\", results[3])\n"
   ]
  },
  {
   "cell_type": "markdown",
   "metadata": {},
   "source": [
    "Synergy Score Prediction"
   ]
  },
  {
   "cell_type": "code",
   "execution_count": null,
   "metadata": {},
   "outputs": [],
   "source": [
    "print(\"Synergy Score Prediction\")\n",
    "predictions = model.predict(X_test)\n",
    "print(\"predictions shape:\", predictions.shape)\n",
    "\n",
    "print(predictions)"
   ]
  },
  {
   "cell_type": "markdown",
   "metadata": {},
   "source": [
    "Classification metrics for model"
   ]
  },
  {
   "cell_type": "code",
   "execution_count": null,
   "metadata": {},
   "outputs": [],
   "source": [
    "#generate classification labels.\n",
    "#Classification threshold = 30 as used in paper.\n",
    "classification_df = pd.DataFrame(y_test, columns= [\"y_test\"])\n",
    "\n",
    "classification_df.loc[classification_df.y_test > 30, \"y_label\"] = 1\n",
    "classification_df.loc[classification_df.y_test < 30, \"y_label\"] = 0\n",
    "\n",
    "#add predictions to classification_df\n",
    "classification_df[\"predictions\"] = predictions\n",
    "\n",
    "classification_df.loc[classification_df.predictions > 30, \"predicted_label\"] = 1\n",
    "classification_df.loc[classification_df.predictions < 30, \"predicted_label\"] = 0\n",
    "\n",
    "classification_df.head()\n"
   ]
  },
  {
   "cell_type": "code",
   "execution_count": null,
   "metadata": {},
   "outputs": [],
   "source": [
    "correct_preds = classification_df.index[classification_df.y_label == classification_df.predicted_label].tolist()\n",
    "accuracy = 100 * len(correct_preds)/classification_df.shape[0]\n",
    "balanced_accuracy = 100 * balanced_accuracy_score(np.array(classification_df.y_label), np.array(classification_df.predicted_label))\n",
    "print(\"accuracy = {}%\".format(accuracy))\n",
    "print(\"balanced accuracy = {0}%\".format(balanced_accuracy))\n",
    "print(\"Confusion Matrix:\")\n",
    "print(confusion_matrix(np.array(classification_df.y_label), np.array(classification_df.predicted_label)))\n",
    "\n"
   ]
  },
  {
   "cell_type": "markdown",
   "metadata": {},
   "source": [
    "Accuracy per epoch"
   ]
  },
  {
   "cell_type": "code",
   "execution_count": null,
   "metadata": {},
   "outputs": [],
   "source": [
    "model = Sequential()\n",
    "metrics=[tf.keras.metrics.MeanSquaredError(), \n",
    "        tf.keras.metrics.RootMeanSquaredError(),\n",
    "        tf.keras.metrics.MeanAbsoluteError()]\n",
    "for i in range(len(layers)):\n",
    "    if i==0:\n",
    "        model.add(Dense(layers[i], input_shape=(X_tr.shape[1],), activation=act_func, \n",
    "        kernel_initializer='he_normal'))\n",
    "        \n",
    "        model.add(Dropout(float(input_dropout)))\n",
    "        \n",
    "    elif i==len(layers)-1:\n",
    "        model.add(Dense(layers[i], activation='linear', kernel_initializer=\"he_normal\"))\n",
    "    \n",
    "    else:\n",
    "        model.add(Dense(layers[i], activation=act_func, kernel_initializer=\"he_normal\"))\n",
    "        model.add(Dropout(float(dropout)))\n",
    "        \n",
    "    model.compile(loss='mean_squared_error', metrics= metrics, optimizer=K.optimizers.SGD(lr=float(eta), momentum=0.5))\n",
    "model.save(\"model.h5\") \n",
    "\n",
    "index = 0\n",
    "columns = [\"MSE\", \"RMSE\", \"MAE\", \"acc\", \"balanced_acc\"]\n",
    "metrics_df = pd.DataFrame(columns = columns)\n",
    "\n",
    "for epoch in range(1,50):\n",
    "    \n",
    "    model = load_model('model.h5')\n",
    "    hist = model.fit(X_train, y_train, epochs=1, shuffle=True, batch_size=64, validation_data=(X_test, y_test))\n",
    "\n",
    "    print(\"Regression metrics from the model\")\n",
    "    results = model.evaluate(X_test, y_test, batch_size=128)\n",
    "    predictions2 = model.predict(X_test)\n",
    "    classification_df = pd.DataFrame(y_test, columns= [\"y_test\"])\n",
    "\n",
    "    classification_df.loc[classification_df.y_test > 30, \"y_label\"] = 1\n",
    "    classification_df.loc[classification_df.y_test < 30, \"y_label\"] = 0\n",
    "\n",
    "    #add predictions to classification_df\n",
    "    classification_df[\"predictions\"] = predictions2\n",
    "    classification_df.loc[classification_df.predictions > 30, \"predicted_label\"] = 1\n",
    "    classification_df.loc[classification_df.predictions < 30, \"predicted_label\"] = 0\n",
    "\n",
    "    correct_preds = classification_df.index[classification_df.y_label == classification_df.predicted_label].tolist()\n",
    "    accuracy = 100 * len(correct_preds)/classification_df.shape[0]\n",
    "    balanced_accuracy = 100 * balanced_accuracy_score(np.array(classification_df.y_label), np.array(classification_df.predicted_label))\n",
    "\n",
    "    #metrics per epoch\n",
    "    metrics_df.at[index, \"MSE\"] = results[1]\n",
    "    metrics_df.at[index, \"RMSE\"] = results[2]\n",
    "    metrics_df.at[index, \"MAE\"] = results[3]\n",
    "    metrics_df.at[index, \"acc\"] = accuracy\n",
    "    metrics_df.at[index, \"balanced_acc\"] = balanced_accuracy\n",
    "\n",
    "    index +=1\n",
    "    print(metrics_df)\n",
    "    model.save(\"model.h5\")\n",
    "    print(\"Saved model to disk\")\n",
    "\n",
    "\n",
    "\n",
    "\n",
    "        "
   ]
  },
  {
   "cell_type": "markdown",
   "metadata": {},
   "source": [
    "Saving results to disk for plotting."
   ]
  },
  {
   "cell_type": "code",
   "execution_count": null,
   "metadata": {},
   "outputs": [],
   "source": [
    "# #save predictions to disk for plotting results.\n",
    "# predictions_df = pd.DataFrame(predictions)\n",
    "# predictions_df.to_csv(\"/home/nidhi/Documents/freelancing/DeepSynergy/data/Results/predictions.csv\")"
   ]
  },
  {
   "cell_type": "code",
   "execution_count": null,
   "metadata": {},
   "outputs": [],
   "source": [
    "predictions2_df"
   ]
  },
  {
   "cell_type": "code",
   "execution_count": null,
   "metadata": {},
   "outputs": [],
   "source": [
    "#save results of model training version 2 (WITH ACCURACY METRICS PER EPOCH)\n",
    "predictions2_df = pd.DataFrame(predictions2)\n",
    "predictions2_df.to_csv(\"/home/nidhi/Documents/freelancing/DeepSynergy/data/Results/predictions_per_epoch_acc_50_epochs.csv\")"
   ]
  },
  {
   "cell_type": "code",
   "execution_count": null,
   "metadata": {},
   "outputs": [],
   "source": [
    "#save metrics_df \n",
    "metrics_df.to_csv(\"/home/nidhi/Documents/freelancing/DeepSynergy/data/Results/metrics_per_epoch_50epochs.csv\")"
   ]
  },
  {
   "cell_type": "markdown",
   "metadata": {},
   "source": [
    "#### smooth validation loss for early stopping parameter determination"
   ]
  },
  {
   "cell_type": "code",
   "execution_count": null,
   "metadata": {},
   "outputs": [],
   "source": [
    "average_over = 2 #was 15 earlier. We only ran 2 epochs. So, threw error.\n",
    "mov_av = moving_average(np.array(val_loss), average_over)\n",
    "print(mov_av)\n",
    "smooth_val_loss = np.pad(mov_av, int(average_over/2), mode='edge')\n",
    "epo = np.argmin(smooth_val_loss)\n"
   ]
  },
  {
   "cell_type": "markdown",
   "metadata": {},
   "source": [
    "#### determine model performance for methods comparison "
   ]
  },
  {
   "cell_type": "code",
   "execution_count": null,
   "metadata": {},
   "outputs": [],
   "source": [
    "hist = model.fit(X_train, y_train, epochs=2, shuffle=True, batch_size=64, validation_data=(X_test, y_test))\n",
    "test_loss = hist.history['val_loss']"
   ]
  },
  {
   "cell_type": "markdown",
   "metadata": {},
   "source": [
    "#### plot performance "
   ]
  },
  {
   "cell_type": "code",
   "execution_count": null,
   "metadata": {},
   "outputs": [],
   "source": [
    "fig, ax = plt.subplots(figsize=(16,8))\n",
    "ax.plot(val_loss, label='validation loss')\n",
    "ax.plot(smooth_val_loss, label='smooth validation loss')\n",
    "ax.plot(test_loss, label='test loss')\n",
    "ax.legend()\n",
    "plt.show()"
   ]
  },
  {
   "cell_type": "code",
   "execution_count": null,
   "metadata": {},
   "outputs": [],
   "source": []
  }
 ],
 "metadata": {
  "kernelspec": {
   "display_name": "Python 3",
   "language": "python",
   "name": "python3"
  },
  "language_info": {
   "codemirror_mode": {
    "name": "ipython",
    "version": 3
   },
   "file_extension": ".py",
   "mimetype": "text/x-python",
   "name": "python",
   "nbconvert_exporter": "python",
   "pygments_lexer": "ipython3",
   "version": "3.8.12"
  }
 },
 "nbformat": 4,
 "nbformat_minor": 1
}
