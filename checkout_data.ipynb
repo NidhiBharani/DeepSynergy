{
 "cells": [
  {
   "cell_type": "code",
   "execution_count": null,
   "metadata": {},
   "outputs": [],
   "source": [
    "#imports\n",
    "\n",
    "import pandas as pd\n",
    "import seaborn as sns\n",
    "import matplotlib.pyplot as plt"
   ]
  },
  {
   "cell_type": "code",
   "execution_count": null,
   "metadata": {},
   "outputs": [],
   "source": [
    "#contains synergy values and fold split (numbers 0-4)\n",
    "labels_file_path = \"/home/nidhi/Documents/freelancing/DeepSynergy/data/labels.csv\"\n",
    "labels = pd.read_csv( labels_file_path, index_col=0)\n",
    "\n",
    "#labels are duplicated for the two different ways of ordering in the data\n",
    "labels = pd.concat([labels, labels]) \n",
    "\n",
    "print(labels.head())\n",
    "print(labels.shape)"
   ]
  },
  {
   "cell_type": "code",
   "execution_count": null,
   "metadata": {},
   "outputs": [],
   "source": [
    "#grouped by cell_line. This will be used for density plots.\n",
    "grouped = labels.groupby('cell_line')\n",
    "\n",
    "for name,group in grouped:\n",
    "   print(name)\n",
    "   #print(group.shape)"
   ]
  },
  {
   "cell_type": "markdown",
   "metadata": {},
   "source": [
    "KDE plot"
   ]
  },
  {
   "cell_type": "code",
   "execution_count": null,
   "metadata": {},
   "outputs": [],
   "source": [
    "A2058_data = grouped.get_group(\"A2058\")\n",
    "A2058_data.head()"
   ]
  },
  {
   "cell_type": "markdown",
   "metadata": {},
   "source": [
    "Plot with bandwidth = 3.589"
   ]
  },
  {
   "cell_type": "code",
   "execution_count": null,
   "metadata": {},
   "outputs": [],
   "source": [
    "# plot prediction and density plot together\n",
    "#fake prediction variable.\n",
    "fake_pred = 1.5  \n",
    "bandwidth = 3.589\n",
    "cell_line_name = \"A2058\"\n",
    "\n",
    "graph = sns.kdeplot(A2058_data[\"synergy\"], bw_adjust= 3.589)\n",
    "graph.axvline(fake_pred)\n",
    "plt.xlabel(\"N = {0}      Bandwidth = {1}\".format(A2058_data.shape[0], bandwidth))\n",
    "plt.title(\"train data distribution of {0}\".format(cell_line_name))\n",
    "#plt.savefig(\"KDE_plot_fixed_bandwidth.png\")\n",
    "plt.show()\n"
   ]
  },
  {
   "cell_type": "markdown",
   "metadata": {},
   "source": [
    "KDE Plot with bandwidth calculated by Scipy and Statsmodels."
   ]
  },
  {
   "cell_type": "code",
   "execution_count": null,
   "metadata": {},
   "outputs": [],
   "source": [
    "# plot prediction and density plot together\n",
    "#fake prediction variable.\n",
    "fake_pred = 1.5  \n",
    "bandwidth = 3.589\n",
    "cell_line_name = \"A2058\"\n",
    "\n",
    "graph = sns.kdeplot(A2058_data[\"synergy\"])\n",
    "graph.axvline(fake_pred)\n",
    "plt.xlabel(\"Synergy Score\")\n",
    "plt.title(\"train data distribution of {0}\".format(cell_line_name))\n",
    "#plt.savefig(\"Training_data_density_plot.png\")\n",
    "plt.show()\n"
   ]
  },
  {
   "cell_type": "markdown",
   "metadata": {},
   "source": [
    "Working on Heatmap now."
   ]
  },
  {
   "cell_type": "code",
   "execution_count": null,
   "metadata": {},
   "outputs": [],
   "source": [
    "grouped_drugs = labels.groupby([\"drug_a_name\", \"drug_b_name\", \"cell_line\"])"
   ]
  },
  {
   "cell_type": "code",
   "execution_count": null,
   "metadata": {},
   "outputs": [],
   "source": [
    "#heatmap can't be created with duplicate entries.\n",
    "#remove duplicate entries by taking synergy mean values for duplicates.\n",
    "\n",
    "deduplicated_labels = grouped_drugs[\"synergy\"].mean().reset_index(name = \"synergy_mean\")\n",
    "#print(deduplicated_labels.nunique)\n",
    "print(deduplicated_labels.head())"
   ]
  },
  {
   "cell_type": "code",
   "execution_count": null,
   "metadata": {},
   "outputs": [],
   "source": [
    "#group deduplicated_labels by cell_line to generate heatmaps for cell_line individually.\n",
    "#deduplicated_labels = ddl\n",
    "\n",
    "ddl_grouped = deduplicated_labels.groupby(\"cell_line\")\n",
    "ddl_grouped_keys = [key for key, _ in ddl_grouped]\n",
    "\n",
    "print(len(ddl_grouped_keys))\n"
   ]
  },
  {
   "cell_type": "markdown",
   "metadata": {},
   "source": [
    "HeatMap for A2058"
   ]
  },
  {
   "cell_type": "code",
   "execution_count": null,
   "metadata": {},
   "outputs": [],
   "source": [
    "#ready data\n",
    "\n",
    "ddl_A2058 = ddl_grouped.get_group(\"A2058\")\n",
    "#print(ddl_A2058.head())\n",
    "print(ddl_A2058.shape)\n",
    "\n",
    "#print(ddl_A2058.iloc[:,[0,1]].nunique())\n",
    "#double check drug pairs are unique.\n",
    "unique_drugpairs_in_ddl_2058 = [key for key, _ in ddl_A2058.groupby([\"drug_a_name\",\"drug_b_name\"])]\n",
    "print(len(unique_drugpairs_in_ddl_2058))\n",
    "\n",
    "#remove cell_line column. \n",
    "A2058_heatmap = ddl_A2058.iloc[:,[0,1,3]].copy()\n",
    "A2058_heatmap = ddl_A2058.pivot(\"drug_a_name\", \"drug_b_name\", \"synergy_mean\")\n"
   ]
  },
  {
   "cell_type": "code",
   "execution_count": null,
   "metadata": {},
   "outputs": [],
   "source": [
    "\n",
    "#sns.color_palette(\"RdBu\")\n",
    "sns.heatmap(A2058_heatmap, center = 0, vmin = -150, vmax = 150, cmap = \"RdBu\")\n",
    "plt.savefig(\"Heatmap.png\")\n",
    "plt.show()\n"
   ]
  }
 ],
 "metadata": {
  "interpreter": {
   "hash": "916dbcbb3f70747c44a77c7bcd40155683ae19c65e1c03b4aa3499c5328201f1"
  },
  "kernelspec": {
   "display_name": "Python 3.8.10 64-bit",
   "language": "python",
   "name": "python3"
  },
  "language_info": {
   "codemirror_mode": {
    "name": "ipython",
    "version": 3
   },
   "file_extension": ".py",
   "mimetype": "text/x-python",
   "name": "python",
   "nbconvert_exporter": "python",
   "pygments_lexer": "ipython3",
   "version": "3.8.10"
  },
  "orig_nbformat": 4
 },
 "nbformat": 4,
 "nbformat_minor": 2
}
